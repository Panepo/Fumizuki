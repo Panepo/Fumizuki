{
 "cells": [
  {
   "cell_type": "code",
   "execution_count": 1,
   "metadata": {},
   "outputs": [
    {
     "name": "stdout",
     "output_type": "stream",
     "text": [
      "tensorflow:1.11.0\n",
      "opencv:3.4.3\n"
     ]
    }
   ],
   "source": [
    "import tensorflow as tf\n",
    "print('tensorflow:' + tf.__version__)\n",
    "\n",
    "import numpy as np\n",
    "import math\n",
    "\n",
    "import cv2\n",
    "print('opencv:' +  cv2.__version__)\n",
    "\n",
    "import network.rdn as rdn"
   ]
  },
  {
   "cell_type": "code",
   "execution_count": 2,
   "metadata": {},
   "outputs": [
    {
     "name": "stdout",
     "output_type": "stream",
     "text": [
      "INFO:tensorflow:Restoring parameters from ./checkpoint/RDN.ckpt\n"
     ]
    }
   ],
   "source": [
    "IMG_CHANNEL = 3\n",
    "LAYER_GLOBAL = 16\n",
    "LAYER_LOCAL = 6\n",
    "SCALE = 2\n",
    "\n",
    "class config():\n",
    "    def __init__(self, n_channel, n_global_layers, n_local_layers, scale):\n",
    "        self.n_channel = n_channel\n",
    "        self.n_global_layers = n_global_layers\n",
    "        self.n_local_layers = n_local_layers\n",
    "        self.scale = scale\n",
    "        \n",
    "RDNconfig = config(IMG_CHANNEL, LAYER_GLOBAL, LAYER_LOCAL, SCALE)\n",
    "\n",
    "RDN = rdn.RDN(RDNconfig)\n",
    "RDN.neuralnet()\n",
    "\n",
    "sess = tf.Session()\n",
    "saver = tf.train.Saver()\n",
    "saver.restore(sess, './checkpoint/RDN.ckpt')"
   ]
  },
  {
   "cell_type": "code",
   "execution_count": 4,
   "metadata": {},
   "outputs": [
    {
     "name": "stdout",
     "output_type": "stream",
     "text": [
      "INFO:tensorflow:Froze 221 variables.\n",
      "INFO:tensorflow:Converted 221 variables to const ops.\n",
      "976 ops in the final graph.\n"
     ]
    }
   ],
   "source": [
    "output_graph_def = tf.graph_util.convert_variables_to_constants(sess, tf.get_default_graph().as_graph_def(), [\"HR_conv_layer\"])\n",
    "\n",
    "FILEPATH_PB = \"\"\n",
    "FILENAME_PB = \"fumizuki_rdn.pb\"\n",
    "\n",
    "with tf.gfile.GFile(FILEPATH_PB + FILENAME_PB, \"wb\") as f:\n",
    "    f.write(output_graph_def.SerializeToString())\n",
    "\n",
    "print(\"%d ops in the final graph.\" % len(output_graph_def.node))"
   ]
  },
  {
   "cell_type": "code",
   "execution_count": null,
   "metadata": {},
   "outputs": [],
   "source": []
  }
 ],
 "metadata": {
  "kernelspec": {
   "display_name": "Python 3",
   "language": "python",
   "name": "python3"
  },
  "language_info": {
   "codemirror_mode": {
    "name": "ipython",
    "version": 3
   },
   "file_extension": ".py",
   "mimetype": "text/x-python",
   "name": "python",
   "nbconvert_exporter": "python",
   "pygments_lexer": "ipython3",
   "version": "3.6.6"
  }
 },
 "nbformat": 4,
 "nbformat_minor": 2
}
