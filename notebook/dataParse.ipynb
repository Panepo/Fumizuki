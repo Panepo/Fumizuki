{
 "cells": [
  {
   "cell_type": "code",
   "execution_count": 1,
   "metadata": {},
   "outputs": [
    {
     "name": "stdout",
     "output_type": "stream",
     "text": [
      "opencv:3.4.3\n"
     ]
    }
   ],
   "source": [
    "import numpy as np\n",
    "import os\n",
    "import time\n",
    "import math\n",
    "\n",
    "import cv2\n",
    "print('opencv:' +  cv2.__version__)"
   ]
  },
  {
   "cell_type": "markdown",
   "metadata": {},
   "source": [
    "### Parse config"
   ]
  },
  {
   "cell_type": "code",
   "execution_count": 2,
   "metadata": {},
   "outputs": [],
   "source": [
    "DATA_FORMAT = \".bmp\"\n",
    "DATAPATH = \"./image/\"\n",
    "\n",
    "SCALE = 4\n",
    "INTERPOLATION = cv2.INTER_CUBIC\n",
    "\n",
    "DATAPATH_HR = \"./image/test_hr/\"\n",
    "DATAPATH_LR = \"./image/test_lr/\"\n",
    "DATAPATH_BB = \"./image/test_bb/\""
   ]
  },
  {
   "cell_type": "code",
   "execution_count": 6,
   "metadata": {},
   "outputs": [],
   "source": [
    "names = os.listdir(DATAPATH)\n",
    "names = sorted(names)\n",
    "nums = names.__len__()\n",
    "j = 0\n",
    "\n",
    "for i in range(nums):\n",
    "    if DATA_FORMAT in names[i]:\n",
    "        name = DATAPATH + names[i]\n",
    "\n",
    "        hr_img = cv2.imread(name, cv2.IMREAD_COLOR)\n",
    "        shape = hr_img.shape\n",
    "\n",
    "        lr_img = cv2.resize(hr_img, (int(shape[1] / SCALE), int(shape[0] / SCALE)), INTERPOLATION)\n",
    "        bb_img = cv2.resize(lr_img, (shape[1], shape[0]), INTERPOLATION)\n",
    "        \n",
    "        filename = DATAPATH_HR + str(j)\n",
    "        np.save('{}.npy'.format(filename), hr_img)\n",
    "        cv2.imwrite(filename + '.png', hr_img, [int(cv2.IMWRITE_PNG_COMPRESSION), 0])\n",
    "        filename = DATAPATH_LR + str(j)\n",
    "        np.save('{}.npy'.format(filename), lr_img)\n",
    "        cv2.imwrite(filename + '.png', lr_img, [int(cv2.IMWRITE_PNG_COMPRESSION), 0])\n",
    "        filename = DATAPATH_BB + str(j)\n",
    "        np.save('{}.npy'.format(filename), bb_img)\n",
    "        cv2.imwrite(filename + '.png', bb_img, [int(cv2.IMWRITE_PNG_COMPRESSION), 0])\n",
    "        \n",
    "        j = j + 1"
   ]
  },
  {
   "cell_type": "code",
   "execution_count": null,
   "metadata": {},
   "outputs": [],
   "source": []
  }
 ],
 "metadata": {
  "kernelspec": {
   "display_name": "Python 3",
   "language": "python",
   "name": "python3"
  },
  "language_info": {
   "codemirror_mode": {
    "name": "ipython",
    "version": 3
   },
   "file_extension": ".py",
   "mimetype": "text/x-python",
   "name": "python",
   "nbconvert_exporter": "python",
   "pygments_lexer": "ipython3",
   "version": "3.6.5"
  }
 },
 "nbformat": 4,
 "nbformat_minor": 2
}
