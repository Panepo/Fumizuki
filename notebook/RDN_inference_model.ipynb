{
 "cells": [
  {
   "cell_type": "code",
   "execution_count": 1,
   "metadata": {},
   "outputs": [
    {
     "name": "stdout",
     "output_type": "stream",
     "text": [
      "tensorflow:1.11.0\n",
      "opencv:3.4.3\n"
     ]
    }
   ],
   "source": [
    "import tensorflow as tf\n",
    "print('tensorflow:' + tf.__version__)\n",
    "from tensorflow.python.platform import gfile\n",
    "\n",
    "import numpy as np\n",
    "import math\n",
    "\n",
    "import cv2\n",
    "print('opencv:' +  cv2.__version__)"
   ]
  },
  {
   "cell_type": "markdown",
   "metadata": {},
   "source": [
    "### Inference config"
   ]
  },
  {
   "cell_type": "code",
   "execution_count": 2,
   "metadata": {},
   "outputs": [],
   "source": [
    "IMG_PATH = \"./image/\"\n",
    "IMG_NAME = \"div2k_crop_1.png\"\n",
    "IMG_CHANNEL = 3\n",
    "LAYER_GLOBAL = 16\n",
    "LAYER_LOCAL = 6\n",
    "SCALE = 2\n",
    "\n",
    "IMG_OPENCV_NAME = \"opencv.png\"\n",
    "IMG_RDN_NAME = \"rdn.png\""
   ]
  },
  {
   "cell_type": "code",
   "execution_count": 3,
   "metadata": {},
   "outputs": [],
   "source": [
    "def im2double(image):\n",
    "    info = np.iinfo(image.dtype) # Get the data type of the input image\n",
    "    return image.astype(np.float32) / info.max # Divide all values by the largest possible value in the datatype\n",
    "\n",
    "def bicubic_sr(input, scale):\n",
    "    bicubic_output = np.clip(cv2.resize(input.copy(), None, fx=1.0*scale, fy=1.0*scale, interpolation=cv2.INTER_CUBIC),0,1) * 255\n",
    "    bicubic_output = bicubic_output\n",
    "\n",
    "    return bicubic_output"
   ]
  },
  {
   "cell_type": "markdown",
   "metadata": {},
   "source": [
    "### Generate super resolution image by RDN"
   ]
  },
  {
   "cell_type": "code",
   "execution_count": 4,
   "metadata": {},
   "outputs": [],
   "source": [
    "GRAPH_PB_PATH = './fumizuki_rdn.pb'\n",
    "\n",
    "sess = tf.Session()\n",
    "\n",
    "with gfile.FastGFile(GRAPH_PB_PATH,'rb') as f:\n",
    "   graph_def = tf.GraphDef()\n",
    "\n",
    "graph_def.ParseFromString(f.read())\n",
    "sess.graph.as_default()\n",
    "tf.import_graph_def(graph_def, name='')\n",
    "\n",
    "#for i in tf.get_default_graph().get_operations():\n",
    "#    print(i.name)"
   ]
  },
  {
   "cell_type": "code",
   "execution_count": 5,
   "metadata": {},
   "outputs": [
    {
     "data": {
      "text/plain": [
       "True"
      ]
     },
     "execution_count": 5,
     "metadata": {},
     "output_type": "execute_result"
    }
   ],
   "source": [
    "image = cv2.imread(IMG_PATH + IMG_NAME).astype(np.uint8)\n",
    "height, width =  image.shape[:2]\n",
    "\n",
    "imageDouble = im2double(image.copy())\n",
    "# ================================\n",
    "tick1 = cv2.getTickCount()\n",
    "RDN_output = sess.run(\"HR_conv_layer:0\", feed_dict={\"RDN_input:0\":np.expand_dims(imageDouble, axis=0)})\n",
    "tick2 = cv2.getTickCount()\n",
    "# ================================\n",
    "\n",
    "RDN_output = np.clip(RDN_output*255, 0, 255)\n",
    "shape = RDN_output.shape\n",
    "RDN_upscale = RDN_output.reshape(shape[1], shape[2], shape[3])\n",
    "cv2.imwrite(IMG_RDN_NAME, RDN_upscale, [int(cv2.IMWRITE_PNG_COMPRESSION), 0])"
   ]
  },
  {
   "cell_type": "markdown",
   "metadata": {},
   "source": [
    "### Generate super resolution image by opencv bicubic interpolation"
   ]
  },
  {
   "cell_type": "code",
   "execution_count": 6,
   "metadata": {},
   "outputs": [
    {
     "data": {
      "text/plain": [
       "True"
      ]
     },
     "execution_count": 6,
     "metadata": {},
     "output_type": "execute_result"
    }
   ],
   "source": [
    "bicubic_upscale = bicubic_sr(imageDouble.copy(), scale=SCALE)\n",
    "cv2.imwrite(IMG_OPENCV_NAME, bicubic_upscale, [int(cv2.IMWRITE_PNG_COMPRESSION), 0])"
   ]
  },
  {
   "cell_type": "markdown",
   "metadata": {},
   "source": [
    "### Display image"
   ]
  },
  {
   "cell_type": "code",
   "execution_count": 7,
   "metadata": {},
   "outputs": [],
   "source": [
    "pltShow = False\n",
    "\n",
    "if pltShow:    \n",
    "    from matplotlib import pyplot as plt\n",
    "    %matplotlib inline\n",
    "    import seaborn as sns\n",
    "    \n",
    "    im1 = cv2.cvtColor(image, cv2.COLOR_BGR2RGB)\n",
    "    im2 = cv2.imread(IMG_OPENCV_NAME)\n",
    "    im2 = cv2.cvtColor(im2, cv2.COLOR_BGR2RGB)\n",
    "    im3 = cv2.imread(IMG_RDN_NAME)\n",
    "    im3 = cv2.cvtColor(im3, cv2.COLOR_BGR2RGB)\n",
    "    \n",
    "    plt.figure(num='comparison',figsize=(64,64))\n",
    "\n",
    "    plt.subplot(3,1,1)\n",
    "    plt.title('origin image')\n",
    "    plt.imshow(im1)\n",
    "\n",
    "    plt.subplot(3,1,2)\n",
    "    plt.title('bicubic_upscale')\n",
    "    plt.imshow(im2)\n",
    "\n",
    "    plt.subplot(3,1,3)\n",
    "    plt.title(\"RDN_upscale\")\n",
    "    plt.imshow(im3)"
   ]
  },
  {
   "cell_type": "markdown",
   "metadata": {},
   "source": [
    "### Process time calculation"
   ]
  },
  {
   "cell_type": "code",
   "execution_count": 8,
   "metadata": {},
   "outputs": [
    {
     "name": "stdout",
     "output_type": "stream",
     "text": [
      "Inference processed time: 2 mins 52 secs 510 ms\n"
     ]
    }
   ],
   "source": [
    "tick = math.floor( ((tick2 - tick1) * 1000) / cv2.getTickFrequency())\n",
    "\n",
    "if tick >= 60000:\n",
    "    mins = math.floor(tick / 60000)\n",
    "    secs = math.floor((tick - mins * 60000) / 1000)\n",
    "    msec = tick - mins * 60000 - secs * 1000\n",
    "    print(\"Inference processed time: \" + str(mins) + \" mins \" + str(secs) + \" secs \" + str(msec) + \" ms\")\n",
    "elif tick >= 1000:\n",
    "    secs = math.floor(tick / 1000)\n",
    "    msec = tick - secs * 1000\n",
    "    print(\"Inference processed time: \" + str(secs) + \" secs \" + str(msec) + \" ms\")\n",
    "else:\n",
    "    print(\"Inference processed time: \" + str(tick) + \" ms\")"
   ]
  }
 ],
 "metadata": {
  "kernelspec": {
   "display_name": "Python 3",
   "language": "python",
   "name": "python3"
  },
  "language_info": {
   "codemirror_mode": {
    "name": "ipython",
    "version": 3
   },
   "file_extension": ".py",
   "mimetype": "text/x-python",
   "name": "python",
   "nbconvert_exporter": "python",
   "pygments_lexer": "ipython3",
   "version": "3.6.6"
  }
 },
 "nbformat": 4,
 "nbformat_minor": 2
}
