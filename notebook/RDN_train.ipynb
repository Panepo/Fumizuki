{
 "cells": [
  {
   "cell_type": "code",
   "execution_count": 1,
   "metadata": {},
   "outputs": [
    {
     "name": "stderr",
     "output_type": "stream",
     "text": [
      "C:\\ProgramData\\Anaconda3\\lib\\site-packages\\h5py\\__init__.py:36: FutureWarning: Conversion of the second argument of issubdtype from `float` to `np.floating` is deprecated. In future, it will be treated as `np.float64 == np.dtype(float).type`.\n",
      "  from ._conv import register_converters as _register_converters\n"
     ]
    },
    {
     "name": "stdout",
     "output_type": "stream",
     "text": [
      "tensorflow:1.11.0\n",
      "[name: \"/device:CPU:0\"\n",
      "device_type: \"CPU\"\n",
      "memory_limit: 268435456\n",
      "locality {\n",
      "}\n",
      "incarnation: 15352562079212995961\n",
      ", name: \"/device:GPU:0\"\n",
      "device_type: \"GPU\"\n",
      "memory_limit: 3213551206\n",
      "locality {\n",
      "  bus_id: 1\n",
      "  links {\n",
      "  }\n",
      "}\n",
      "incarnation: 18385036426934203187\n",
      "physical_device_desc: \"device: 0, name: GeForce GTX 950M, pci bus id: 0000:01:00.0, compute capability: 5.0\"\n",
      "]\n",
      "opencv:3.4.1\n"
     ]
    }
   ],
   "source": [
    "import tensorflow as tf\n",
    "print('tensorflow:' + tf.__version__)\n",
    "\n",
    "from tensorflow.python.client import device_lib\n",
    "\n",
    "local_device_protos = device_lib.list_local_devices()\n",
    "print(local_device_protos)\n",
    "\n",
    "import numpy as np\n",
    "import math\n",
    "\n",
    "import cv2\n",
    "print('opencv:' +  cv2.__version__)\n",
    "\n",
    "import network.rdn as rdn\n",
    "import util.train as train"
   ]
  },
  {
   "cell_type": "markdown",
   "metadata": {},
   "source": [
    "### Traininig settings"
   ]
  },
  {
   "cell_type": "code",
   "execution_count": 2,
   "metadata": {},
   "outputs": [
    {
     "name": "stdout",
     "output_type": "stream",
     "text": [
      "INFO:tensorflow:Summary name Average test psnr is illegal; using Average_test_psnr instead.\n",
      "INFO:tensorflow:Summary name Learning rate is illegal; using Learning_rate instead.\n",
      "Total the number of Data : 29903\n",
      "Total Step per 1 Epoch: 3738\n",
      "The number of Iteration: 18690\n",
      "Total required time: 10.0hour 29minute\n",
      "=============================================\n",
      "Epoch: 0001 cost = 0.022458938 \n",
      "RGB AVG PSNR:: Bicubic: -23.639466730 || RDN: -41.563284508\n",
      "Evaluate RDN performance\n",
      "Test image 0 psnr: -41.362369112977255\n",
      "Test image 1 psnr: -43.87311978995879\n",
      "Test image 2 psnr: -41.64733661835159\n",
      "Test image 3 psnr: -38.96903718440475\n",
      "Test image 4 psnr: -41.96455983440468\n",
      "=============================================\n",
      "Total required time: 6.0hour 39minute\n",
      "=============================================\n",
      "Epoch: 0003 cost = 0.005294882 \n",
      "RGB AVG PSNR:: Bicubic: -23.639466730 || RDN: -41.563215281\n",
      "Evaluate RDN performance\n",
      "Test image 0 psnr: -41.362363448157886\n",
      "Test image 1 psnr: -43.87311978995879\n",
      "Test image 2 psnr: -41.647337166549704\n",
      "Test image 3 psnr: -38.96869616644878\n",
      "Test image 4 psnr: -41.96455983440468\n",
      "=============================================\n",
      "Total required time: 2.0hour 52minute\n",
      "=============================================\n",
      "Epoch: 0005 cost = 0.004457590 \n",
      "RGB AVG PSNR:: Bicubic: -23.639466730 || RDN: -41.563208199\n",
      "Evaluate RDN performance\n",
      "Test image 0 psnr: -41.3623611822291\n",
      "Test image 1 psnr: -43.87311809285492\n",
      "Test image 2 psnr: -41.647333329162194\n",
      "Test image 3 psnr: -38.96866855609403\n",
      "Test image 4 psnr: -41.96455983440468\n",
      "=============================================\n",
      "Training complete!\n",
      "Checkpoint saved!\n"
     ]
    }
   ],
   "source": [
    "class config():\n",
    "    def __init__(self):\n",
    "        self.n_channel = 3\n",
    "        self.n_global_layers = 16\n",
    "        self.n_local_layers = 6\n",
    "        self.scale = 4\n",
    "        self.learning_rate = 0.0001\n",
    "        self.beta_1 = 0.9\n",
    "        self.beta_2 = 0.999\n",
    "        self.epsilon = 1e-08\n",
    "        self.training_epoch = 5\n",
    "        self.batch_size = 8\n",
    "        self.test_batch_size = 5\n",
    "        \n",
    "RDNconfig = config()\n",
    "\n",
    "RDN = rdn.RDN(RDNconfig)\n",
    "train.training(RDN, RDNconfig)"
   ]
  }
 ],
 "metadata": {
  "kernelspec": {
   "display_name": "Python 3",
   "language": "python",
   "name": "python3"
  },
  "language_info": {
   "codemirror_mode": {
    "name": "ipython",
    "version": 3
   },
   "file_extension": ".py",
   "mimetype": "text/x-python",
   "name": "python",
   "nbconvert_exporter": "python",
   "pygments_lexer": "ipython3",
   "version": "3.6.5"
  }
 },
 "nbformat": 4,
 "nbformat_minor": 2
}
