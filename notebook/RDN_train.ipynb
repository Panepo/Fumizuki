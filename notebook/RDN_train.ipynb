{
 "cells": [
  {
   "cell_type": "code",
   "execution_count": 1,
   "metadata": {},
   "outputs": [
    {
     "name": "stdout",
     "output_type": "stream",
     "text": [
      "tensorflow:1.11.0\n",
      "opencv:3.4.3\n"
     ]
    }
   ],
   "source": [
    "import tensorflow as tf\n",
    "print('tensorflow:' + tf.__version__)\n",
    "\n",
    "import numpy as np\n",
    "import math\n",
    "\n",
    "import cv2\n",
    "print('opencv:' +  cv2.__version__)\n",
    "\n",
    "import network.rdn as rdn\n",
    "from util.util import Time\n",
    "from util.util import ImageBatch\n",
    "from util.util import psnr"
   ]
  },
  {
   "cell_type": "markdown",
   "metadata": {},
   "source": [
    "### Traininig settings"
   ]
  },
  {
   "cell_type": "code",
   "execution_count": null,
   "metadata": {},
   "outputs": [],
   "source": [
    "training_ratio = 1\n",
    "main_data_path = '.'\n",
    "\n",
    "IMG_CHANNEL = 3\n",
    "LAYER_GLOBAL = 16\n",
    "LAYER_LOCAL = 6\n",
    "SCALE = 2\n",
    "\n",
    "class config():\n",
    "    def __init__(self, n_channel, n_global_layers, n_local_layers, scale):\n",
    "        self.n_channel = n_channel\n",
    "        self.n_global_layers = n_global_layers\n",
    "        self.n_local_layers = n_local_layers\n",
    "        self.scale = scale\n",
    "        \n",
    "RDNconfig = config(IMG_CHANNEL, LAYER_GLOBAL, LAYER_LOCAL, SCALE)\n",
    "\n",
    "RDN = rdn.RDN(RDNconfig)"
   ]
  },
  {
   "cell_type": "markdown",
   "metadata": {},
   "source": [
    "### Functions"
   ]
  },
  {
   "cell_type": "code",
   "execution_count": null,
   "metadata": {},
   "outputs": [],
   "source": [
    "def im2double(image):\n",
    "    info = np.iinfo(image.dtype) # Get the data type of the input image\n",
    "    return image.astype(np.float32) / info.max # Divide all values by the largest possible value in the datatype\n",
    "\n",
    "def get_train_set(scale=2):\n",
    "    '''\n",
    "    PATH of TRAIN SET(DIV2K-20 extracts)\n",
    "    '''\n",
    "    train_labels_path = '{}/image/train_DIV2K_label_{}x/*.npy'.format(main_data_path, scale)\n",
    "    train_inputs_path = '{}/image/train_DIV2K_input_{}x/*.npy'.format(main_data_path, scale)\n",
    "    '''\n",
    "    TRAIN SET(N-Sampling) and shuffle\n",
    "    '''\n",
    "    train_inputs_batch = ImageBatch(train_inputs_path, training_ratio=training_ratio, on_sort=True, ext='npy')\n",
    "    train_labels_batch = ImageBatch(train_labels_path, training_ratio=training_ratio, on_sort=True, ext='npy')\n",
    "\n",
    "    shuffle_indicese = list(range(train_labels_batch.N_TRAIN_DATA))\n",
    "    np.random.shuffle(shuffle_indicese)\n",
    "    train_inputs_batch.train_shuffle(shuffle_indicese)\n",
    "    train_labels_batch.train_shuffle(shuffle_indicese)\n",
    "\n",
    "    return train_inputs_batch, train_labels_batch\n",
    "\n",
    "def get_test_set(batch_size, scale=2):\n",
    "    '''\n",
    "    PATH of TEST SET(SET5)\n",
    "    '''\n",
    "    test_labels_path = '{}/data/Set5/ground_truth/*.npy'.format(main_data_path)\n",
    "    test_bicubic_inputs_path = '{}/data/Set5/blur_{}x/*.npy'.format(main_data_path, scale)\n",
    "    test_rdn_inputs_path = '{}/data/Set5/low_rs_{}x/*.npy'.format(main_data_path, scale)\n",
    "    '''\n",
    "    TEST SET(SET5)\n",
    "    '''\n",
    "    test_labels_batch = ImageBatch(test_labels_path, training_ratio=training_ratio, on_sort=True, ext='npy')\n",
    "    test_bicubic_inputs_batch = ImageBatch(test_bicubic_inputs_path, training_ratio=training_ratio, on_sort=True, ext='npy')\n",
    "    test_rdn_inputs_batch = ImageBatch(test_rdn_inputs_path, training_ratio=training_ratio, on_sort=True, ext='npy')\n",
    "\n",
    "    test_labels = test_labels_batch.next_batch(batch_size=batch_size)\n",
    "    test_bicubic_inputs = test_bicubic_inputs_batch.next_batch(batch_size=batch_size)\n",
    "    test_rdn_inputs = test_rdn_inputs_batch.next_batch(batch_size=batch_size)\n",
    "\n",
    "    return test_labels, test_bicubic_inputs, test_rdn_inputs"
   ]
  }
 ],
 "metadata": {
  "kernelspec": {
   "display_name": "Python 3",
   "language": "python",
   "name": "python3"
  },
  "language_info": {
   "codemirror_mode": {
    "name": "ipython",
    "version": 3
   },
   "file_extension": ".py",
   "mimetype": "text/x-python",
   "name": "python",
   "nbconvert_exporter": "python",
   "pygments_lexer": "ipython3",
   "version": "3.6.6"
  }
 },
 "nbformat": 4,
 "nbformat_minor": 2
}
